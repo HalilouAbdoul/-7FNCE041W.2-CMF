{
 "cells": [
  {
   "cell_type": "code",
   "execution_count": 199,
   "id": "2301a579",
   "metadata": {},
   "outputs": [],
   "source": [
    "import yfinance as yf #To import Yfinance in order to be able to download Tesla's historical data\n",
    "import numpy as np #To import NumPy to be able to perform mathemetical operations on the arrays\n",
    "import pandas as pd #To allow us to manipulate the columns in our dataframe or arrays\n",
    "import os"
   ]
  },
  {
   "cell_type": "code",
   "execution_count": 200,
   "id": "132dca7e",
   "metadata": {},
   "outputs": [
    {
     "name": "stdout",
     "output_type": "stream",
     "text": [
      "[*********************100%***********************]  1 of 1 completed\n"
     ]
    }
   ],
   "source": [
    "TSLA = yf.download(\"TSLA\", start=\"2021-05-16\", end=\"2022-05-15\")\n",
    "#We call the download function of yFinance to download the historical data on Tesla Inc.\n"
   ]
  },
  {
   "cell_type": "code",
   "execution_count": 201,
   "id": "1a67602e",
   "metadata": {},
   "outputs": [
    {
     "data": {
      "text/html": [
       "<div>\n",
       "<style scoped>\n",
       "    .dataframe tbody tr th:only-of-type {\n",
       "        vertical-align: middle;\n",
       "    }\n",
       "\n",
       "    .dataframe tbody tr th {\n",
       "        vertical-align: top;\n",
       "    }\n",
       "\n",
       "    .dataframe thead th {\n",
       "        text-align: right;\n",
       "    }\n",
       "</style>\n",
       "<table border=\"1\" class=\"dataframe\">\n",
       "  <thead>\n",
       "    <tr style=\"text-align: right;\">\n",
       "      <th></th>\n",
       "      <th>Open</th>\n",
       "      <th>High</th>\n",
       "      <th>Low</th>\n",
       "      <th>Close</th>\n",
       "      <th>Adj Close</th>\n",
       "      <th>Volume</th>\n",
       "    </tr>\n",
       "    <tr>\n",
       "      <th>Date</th>\n",
       "      <th></th>\n",
       "      <th></th>\n",
       "      <th></th>\n",
       "      <th></th>\n",
       "      <th></th>\n",
       "      <th></th>\n",
       "    </tr>\n",
       "  </thead>\n",
       "  <tbody>\n",
       "    <tr>\n",
       "      <th>2021-05-17</th>\n",
       "      <td>575.549988</td>\n",
       "      <td>589.729980</td>\n",
       "      <td>561.200012</td>\n",
       "      <td>576.830017</td>\n",
       "      <td>576.830017</td>\n",
       "      <td>32390400</td>\n",
       "    </tr>\n",
       "    <tr>\n",
       "      <th>2021-05-18</th>\n",
       "      <td>568.000000</td>\n",
       "      <td>596.250000</td>\n",
       "      <td>563.380005</td>\n",
       "      <td>577.869995</td>\n",
       "      <td>577.869995</td>\n",
       "      <td>36830600</td>\n",
       "    </tr>\n",
       "    <tr>\n",
       "      <th>2021-05-19</th>\n",
       "      <td>552.549988</td>\n",
       "      <td>566.210022</td>\n",
       "      <td>546.979980</td>\n",
       "      <td>563.460022</td>\n",
       "      <td>563.460022</td>\n",
       "      <td>39578400</td>\n",
       "    </tr>\n",
       "    <tr>\n",
       "      <th>2021-05-20</th>\n",
       "      <td>575.000000</td>\n",
       "      <td>588.849976</td>\n",
       "      <td>571.070007</td>\n",
       "      <td>586.780029</td>\n",
       "      <td>586.780029</td>\n",
       "      <td>30821100</td>\n",
       "    </tr>\n",
       "    <tr>\n",
       "      <th>2021-05-21</th>\n",
       "      <td>596.109985</td>\n",
       "      <td>596.679993</td>\n",
       "      <td>580.000000</td>\n",
       "      <td>580.880005</td>\n",
       "      <td>580.880005</td>\n",
       "      <td>26030600</td>\n",
       "    </tr>\n",
       "    <tr>\n",
       "      <th>...</th>\n",
       "      <td>...</td>\n",
       "      <td>...</td>\n",
       "      <td>...</td>\n",
       "      <td>...</td>\n",
       "      <td>...</td>\n",
       "      <td>...</td>\n",
       "    </tr>\n",
       "    <tr>\n",
       "      <th>2022-05-09</th>\n",
       "      <td>836.450012</td>\n",
       "      <td>845.630005</td>\n",
       "      <td>781.150024</td>\n",
       "      <td>787.109985</td>\n",
       "      <td>787.109985</td>\n",
       "      <td>30270100</td>\n",
       "    </tr>\n",
       "    <tr>\n",
       "      <th>2022-05-10</th>\n",
       "      <td>819.309998</td>\n",
       "      <td>825.359985</td>\n",
       "      <td>774.250000</td>\n",
       "      <td>800.039978</td>\n",
       "      <td>800.039978</td>\n",
       "      <td>28133900</td>\n",
       "    </tr>\n",
       "    <tr>\n",
       "      <th>2022-05-11</th>\n",
       "      <td>795.000000</td>\n",
       "      <td>809.770020</td>\n",
       "      <td>727.200012</td>\n",
       "      <td>734.000000</td>\n",
       "      <td>734.000000</td>\n",
       "      <td>32408200</td>\n",
       "    </tr>\n",
       "    <tr>\n",
       "      <th>2022-05-12</th>\n",
       "      <td>701.000000</td>\n",
       "      <td>759.659973</td>\n",
       "      <td>680.000000</td>\n",
       "      <td>728.000000</td>\n",
       "      <td>728.000000</td>\n",
       "      <td>46771000</td>\n",
       "    </tr>\n",
       "    <tr>\n",
       "      <th>2022-05-13</th>\n",
       "      <td>773.479980</td>\n",
       "      <td>787.349976</td>\n",
       "      <td>751.570007</td>\n",
       "      <td>769.590027</td>\n",
       "      <td>769.590027</td>\n",
       "      <td>30651800</td>\n",
       "    </tr>\n",
       "  </tbody>\n",
       "</table>\n",
       "<p>252 rows × 6 columns</p>\n",
       "</div>"
      ],
      "text/plain": [
       "                  Open        High         Low       Close   Adj Close  \\\n",
       "Date                                                                     \n",
       "2021-05-17  575.549988  589.729980  561.200012  576.830017  576.830017   \n",
       "2021-05-18  568.000000  596.250000  563.380005  577.869995  577.869995   \n",
       "2021-05-19  552.549988  566.210022  546.979980  563.460022  563.460022   \n",
       "2021-05-20  575.000000  588.849976  571.070007  586.780029  586.780029   \n",
       "2021-05-21  596.109985  596.679993  580.000000  580.880005  580.880005   \n",
       "...                ...         ...         ...         ...         ...   \n",
       "2022-05-09  836.450012  845.630005  781.150024  787.109985  787.109985   \n",
       "2022-05-10  819.309998  825.359985  774.250000  800.039978  800.039978   \n",
       "2022-05-11  795.000000  809.770020  727.200012  734.000000  734.000000   \n",
       "2022-05-12  701.000000  759.659973  680.000000  728.000000  728.000000   \n",
       "2022-05-13  773.479980  787.349976  751.570007  769.590027  769.590027   \n",
       "\n",
       "              Volume  \n",
       "Date                  \n",
       "2021-05-17  32390400  \n",
       "2021-05-18  36830600  \n",
       "2021-05-19  39578400  \n",
       "2021-05-20  30821100  \n",
       "2021-05-21  26030600  \n",
       "...              ...  \n",
       "2022-05-09  30270100  \n",
       "2022-05-10  28133900  \n",
       "2022-05-11  32408200  \n",
       "2022-05-12  46771000  \n",
       "2022-05-13  30651800  \n",
       "\n",
       "[252 rows x 6 columns]"
      ]
     },
     "execution_count": 201,
     "metadata": {},
     "output_type": "execute_result"
    }
   ],
   "source": [
    "TSLA"
   ]
  },
  {
   "cell_type": "code",
   "execution_count": 106,
   "id": "46c70edd",
   "metadata": {},
   "outputs": [],
   "source": [
    "TSLA_Close=TSLA['Adj Close'] \n",
    "#The use of panda libraries have allowed us to store the values of Adj Close in the TSLA array\n",
    "#to a new array TSLA_Close"
   ]
  },
  {
   "cell_type": "code",
   "execution_count": 107,
   "id": "02b85c1d",
   "metadata": {},
   "outputs": [
    {
     "data": {
      "text/plain": [
       "Date\n",
       "2021-05-17    576.830017\n",
       "2021-05-18    577.869995\n",
       "2021-05-19    563.460022\n",
       "2021-05-20    586.780029\n",
       "2021-05-21    580.880005\n",
       "Name: Adj Close, dtype: float64"
      ]
     },
     "execution_count": 107,
     "metadata": {},
     "output_type": "execute_result"
    }
   ],
   "source": [
    "TSLA_Close.head() "
   ]
  },
  {
   "cell_type": "code",
   "execution_count": 108,
   "id": "853d274c",
   "metadata": {},
   "outputs": [],
   "source": [
    "TSLA_Returns= np.log(TSLA_Close/TSLA_Close.shift(1))\n",
    "#Using the imported NumPy library as np, we can call the logarithmic function using np.log\n",
    "#This allows us to perform the operation on all the array.\n",
    "#In this formula, we divide the first value with the next value of the array\n",
    "#we then find its logarithmic value, and store it. This wouldnt be possible without NumPy"
   ]
  },
  {
   "cell_type": "code",
   "execution_count": 109,
   "id": "33c7ca24",
   "metadata": {},
   "outputs": [
    {
     "data": {
      "text/plain": [
       "Date\n",
       "2021-05-17         NaN\n",
       "2021-05-18    0.001801\n",
       "2021-05-19   -0.025253\n",
       "2021-05-20    0.040554\n",
       "2021-05-21   -0.010106\n",
       "Name: Adj Close, dtype: float64"
      ]
     },
     "execution_count": 109,
     "metadata": {},
     "output_type": "execute_result"
    }
   ],
   "source": [
    "TSLA_Returns.head()"
   ]
  },
  {
   "cell_type": "code",
   "execution_count": 202,
   "id": "e13216f2",
   "metadata": {},
   "outputs": [
    {
     "name": "stdout",
     "output_type": "stream",
     "text": [
      "The annualized volatility is 56.75 %\n"
     ]
    }
   ],
   "source": [
    " sigma= np.sqrt(252)*TSLA_Returns.std() #to calculate the annualized volatility of TESLA Inc\n",
    "    \n",
    " print('The annualized volatility is', round(sigma*100,2),'%' )"
   ]
  },
  {
   "cell_type": "code",
   "execution_count": 203,
   "id": "c2f99034",
   "metadata": {},
   "outputs": [],
   "source": [
    "import matplotlib.pyplot as plt #this is to import the matplotlib library and use plt to call on the functions of that library"
   ]
  },
  {
   "cell_type": "code",
   "execution_count": 204,
   "id": "ea96d889",
   "metadata": {},
   "outputs": [
    {
     "data": {
      "text/plain": [
       "Text(0.5, 1.0, 'Historical Price for TSLA')"
      ]
     },
     "execution_count": 204,
     "metadata": {},
     "output_type": "execute_result"
    },
    {
     "data": {
      "image/png": "[encoded data removed]",
      "text/plain": [
       "<Figure size 864x864 with 1 Axes>"
      ]
     },
     "metadata": {
      "needs_background": "light"
     },
     "output_type": "display_data"
    }
   ],
   "source": [
    " #To plot the movement of the adjusted closing prices of Tesla between 16 May 2021 ans 15 May 2022\n",
    "fig, ax = plt.subplots(1, 1, figsize=(12, 12)) #we call the subplot function of matplotlib.pyplot\n",
    " patches = ax.plot(TSLA_Close, alpha=0.65, color='blue') #we call the plot function to decide on the color and size of our graph\n",
    "ax.set_xlabel('Date') #to set the X Axis label\n",
    "ax.set_ylabel('Tesla Price') #to set the Y Axis label\n",
    "ax.set_title('Historical Price for ' + 'TSLA') #To set the title of the graph"
   ]
  },
  {
   "cell_type": "code",
   "execution_count": 205,
   "id": "44122a33",
   "metadata": {},
   "outputs": [],
   "source": [
    "import scipy.stats as si #we need this to perform cumulative distribution\n",
    "import os #we need this to print"
   ]
  },
  {
   "cell_type": "code",
   "execution_count": 251,
   "id": "48a1f453",
   "metadata": {},
   "outputs": [],
   "source": [
    "def NR_ImpVol(S, K, T, MV, r,vol, iteration,tolerance):\n",
    "    #We are definining a function called N_R_Imp_Vol to perfrom the Newton-Raphson iteration of Implied Volatity Calculation\n",
    "    #The formula has 7 arguments defined below, These arguments are needed for the Black Scholes Model\n",
    "    #S: spot price of the underlying asset\n",
    "    #K: strike price of the option\n",
    "    #T: time to maturity\n",
    "    #MV: Market Value of the Call or Put option\n",
    "    #r: risk free rate\n",
    "    # vol: annualized historical volatility of the underlying asset\n",
    "    # iteration: this is the number of interation the Newton-Raphson should run\n",
    "    #tolerance: this is the tolerance level, meaning the lowest difference we can accept between VBS (Value using Black Scholes) and MV\n",
    "    #for as long as the absolute value of the difference between VBS and MV is > than tolerance,the iteration shall continue\n",
    "  \n",
    "    \n",
    "    for i in range(0, iteration): #we are setting the condtion of the iteration\n",
    "        d1 = (np.log(S / K) + (r + 0.5 * vol ** 2) * T) / (vol * np.sqrt(T))\n",
    "        d2 = (np.log(S / K) + (r - 0.5 * vol ** 2) * T) / (vol * np.sqrt(T))\n",
    "        #value of  D1 and D2  from BSM to solve for option price, using NumPy function as np.\n",
    "        VBS = S * si.norm.cdf(d1, 0.0, 1.0) - K * np.exp(-r * T) * si.norm.cdf(d2, 0.0, 1.0)#value of a call option using BSM\n",
    "        vega = S * np.sqrt(T) * si.norm.pdf(d1, 0.0, 1.0) #We Calculate the Vega of the option, same if Call or Put\n",
    "        diff = MV - VBS\n",
    "        #WE look at the difference between VBS and MV, theoretical price option using Black Scholes and the Market Value\n",
    "        #This is because the Implied Volatility is one that satisfies VBS=MV\n",
    "\n",
    "        if (abs(diff) < tolerance): \n",
    "            #We assess the absolute difference of VBS and MV and compare to the tolerance level we set\n",
    "            #if the difference is below the tolerance, then the volatility that satisified this condition is our implied volatility\n",
    "            return vol\n",
    "        else: \n",
    "            vol = vol + diff/vega\n",
    "            #if the difference is not below tolerance then we apply the Netwon Raphson iteration to look for a new volatility \n",
    "            #𝜎_(𝑛+1)=𝜎_𝑛−(𝑉_𝑚𝑘𝑡−𝑉_𝐵𝑆 (𝜎_𝑛 ))/((𝜕𝑉_𝐵𝑆 (𝜎_𝑛 ))/𝜕𝜎)\n",
    "        \n",
    "        print (i,vol,diff) #to print the number of interation performed, the volatity and the difference betwen VBS and MV\n",
    "    return vol\n",
    "#This process will continue until we find a volatility that satisfies VBS= MV, the market value\n"
   ]
  },
  {
   "cell_type": "code",
   "execution_count": 252,
   "id": "7aab52f6",
   "metadata": {},
   "outputs": [],
   "source": [
    "Spot=756.40 #from Yahoo Finance\n",
    "Strike= 700 #From Assignment, I had to amend from the 1000 given,that means option value is 0 and vega is near 0 and causes error\n",
    "CallPrice= 60.85 #From Yahoo Finance\n",
    "Time=3/253 #Days to maturity as of 17 May 2022, 3 days over 253 trading days\n",
    "risk=0.02 #from assignment"
   ]
  },
  {
   "cell_type": "code",
   "execution_count": 253,
   "id": "1144de77",
   "metadata": {},
   "outputs": [
    {
     "name": "stdout",
     "output_type": "stream",
     "text": [
      "0 0.7104330002826977 2.0476649080851317\n",
      "1 0.6914906441965123 -0.36114914692884525\n",
      "2 0.6912241606626534 -0.004940443318353971\n",
      "3 0.6912241059856103 -1.0132634074011548e-06\n",
      "The implied volatility of Tesla Inc is 69.12 % \n"
     ]
    }
   ],
   "source": [
    "ImpliedVolatility= NR_ImpVol(Spot,Strike,Time,CallPrice,risk,sigma,100,0.0000001) #\n",
    "print('The implied volatility of Tesla Inc is', round(ImpliedVolatility*100,2) , '% ' ) "
   ]
  },
  {
   "cell_type": "markdown",
   "id": "9957d822",
   "metadata": {},
   "source": [
    "## Valuation of European Call Option Using Binomial Tree"
   ]
  },
  {
   "cell_type": "markdown",
   "id": "625d5bcd",
   "metadata": {},
   "source": [
    "### Step 1: Define the variables"
   ]
  },
  {
   "cell_type": "code",
   "execution_count": 237,
   "id": "84f2d411",
   "metadata": {},
   "outputs": [],
   "source": [
    "S0 = 25   # Spot Price of underlying given in the assignment\n",
    "vol= 0.2  #volatility of the underlying given in the assignment\n",
    "K = 24    # strike price of the option contract given in the assignment\n",
    "T = 1/2   # time to maturity, 6 months so it 1/2\n",
    "r = 0.05  # risk free rate given in the assigment\n",
    "N = 2     # number of steps for the tree "
   ]
  },
  {
   "cell_type": "markdown",
   "id": "e6842798",
   "metadata": {},
   "source": [
    "### Step 2: Calculate u,d, p and q"
   ]
  },
  {
   "cell_type": "code",
   "execution_count": 245,
   "id": "0d61e14d",
   "metadata": {},
   "outputs": [
    {
     "name": "stdout",
     "output_type": "stream",
     "text": [
      "the up factor u is: 1.1051709180756477\n"
     ]
    }
   ],
   "source": [
    "dT = float(T) / N                             # timestep, time within each step, 1/4\n",
    "u = np.exp(vol * np.sqrt(dT))                 # up factor, if the price moves up we multiply by u\n",
    "d = 1.0 / u                                   # down factor , if the price moves down we muliply by d\n",
    "print ('the up factor u is: '+ str(u )  )     # to display the value of u\n"
   ]
  },
  {
   "cell_type": "code",
   "execution_count": 246,
   "id": "49195cfc",
   "metadata": {},
   "outputs": [
    {
     "name": "stdout",
     "output_type": "stream",
     "text": [
      "the down factor d is: 0.9048374180359595\n"
     ]
    }
   ],
   "source": [
    "print ('the down factor d is: '+ str(d)  )  # to display the value of u"
   ]
  },
  {
   "cell_type": "code",
   "execution_count": 242,
   "id": "c888ed6f",
   "metadata": {},
   "outputs": [
    {
     "name": "stdout",
     "output_type": "stream",
     "text": [
      "the risk neutral up probability p is: 0.537808371956414\n"
     ]
    }
   ],
   "source": [
    "a = np.exp(r * dT)    # risk free compound return\n",
    "p = (a - d)/ (u - d)  # risk neutral up probability\n",
    "q=1-p                 # risk neutral down probability\n",
    "print ('the risk neutral up probability p is: '+ str(p)) #to print p"
   ]
  },
  {
   "cell_type": "markdown",
   "id": "c34bfebc",
   "metadata": {},
   "source": [
    "### Step 3: Contruct the Treee"
   ]
  },
  {
   "cell_type": "code",
   "execution_count": 243,
   "id": "ff092a3e",
   "metadata": {},
   "outputs": [],
   "source": [
    "S = np.zeros((N + 1, N + 1)) # to construct the number of the steps for my tree, we will have 2 steps\n",
    "S[0, 0] = S0 #we set the first value to be S0\n",
    "z = 1\n",
    "for t in range(1, N + 1):\n",
    "    for i in range(z):\n",
    "        S[i, t] = S[i, t-1] * u #for an up move it is the previous value of S multiplied by u\n",
    "        S[i+1, t] = S[i, t-1] * d #for a down move it is the previous value of S multiplied by d\n",
    "    z += 1"
   ]
  },
  {
   "cell_type": "code",
   "execution_count": 244,
   "id": "2279acad",
   "metadata": {},
   "outputs": [
    {
     "data": {
      "text/plain": [
       "array([[25.        , 27.62927295, 30.53506895],\n",
       "       [ 0.        , 22.62093545, 25.        ],\n",
       "       [ 0.        ,  0.        , 20.46826883]])"
      ]
     },
     "execution_count": 244,
     "metadata": {},
     "output_type": "execute_result"
    }
   ],
   "source": [
    "S #to print the spot prices "
   ]
  },
  {
   "cell_type": "markdown",
   "id": "47da07d6",
   "metadata": {},
   "source": [
    "### Step 4: Find the option vale at the last step"
   ]
  },
  {
   "cell_type": "code",
   "execution_count": 247,
   "id": "de47b380",
   "metadata": {},
   "outputs": [
    {
     "data": {
      "text/plain": [
       "array([[0.        , 0.        , 6.53506895],\n",
       "       [0.        , 0.        , 1.        ],\n",
       "       [0.        , 0.        , 0.        ]])"
      ]
     },
     "execution_count": 247,
     "metadata": {},
     "output_type": "execute_result"
    }
   ],
   "source": [
    "S_T = S[:,-1] #we define this to be the value of the spot price at the last step\n",
    "V = np.zeros((N + 1, N + 1)) #we define an array V such as our Tree\n",
    "\n",
    "V[:,-1] = np.maximum(S_T-K, 0.0)\n",
    "#We find the last step of V and we find option value which is Maximum of Spot at that node - Strike or 0\n",
    "\n",
    "V"
   ]
  },
  {
   "cell_type": "markdown",
   "id": "12785fe3",
   "metadata": {},
   "source": [
    "### Step 5: Find the Value at earlier steps"
   ]
  },
  {
   "cell_type": "code",
   "execution_count": 248,
   "id": "631e4dc9",
   "metadata": {},
   "outputs": [
    {
     "data": {
      "text/plain": [
       "array([[2.32838692, 3.92740574, 6.53506895],\n",
       "       [0.        , 0.53112761, 1.        ],\n",
       "       [0.        , 0.        , 0.        ]])"
      ]
     },
     "execution_count": 248,
     "metadata": {},
     "output_type": "execute_result"
    }
   ],
   "source": [
    "for j in range(N-1, -1, -1): #we contruct a loop to move backwards\n",
    "    for i in range(j+1):\n",
    "        V[i,j] = np.exp(-r*dT) * (p * V[i,j + 1] + q * V[i + 1,j + 1])\n",
    " #we are running backwards using brownian motion to find value at earlier nodes\n",
    "V #we print the option value at each node"
   ]
  },
  {
   "cell_type": "code",
   "execution_count": 235,
   "id": "403f9df4",
   "metadata": {},
   "outputs": [
    {
     "name": "stdout",
     "output_type": "stream",
     "text": [
      "European Call  value is 2.3283869193612463\n"
     ]
    }
   ],
   "source": [
    "print('European Call ' +\" value is\", str( V[0,0]))"
   ]
  },
  {
   "cell_type": "code",
   "execution_count": null,
   "id": "ae8915cd",
   "metadata": {},
   "outputs": [],
   "source": []
  }
 ],
 "metadata": {
  "kernelspec": {
   "display_name": "Python 3 (ipykernel)",
   "language": "python",
   "name": "python3"
  },
  "language_info": {
   "codemirror_mode": {
    "name": "ipython",
    "version": 3
   },
   "file_extension": ".py",
   "mimetype": "text/x-python",
   "name": "python",
   "nbconvert_exporter": "python",
   "pygments_lexer": "ipython3",
   "version": "3.9.7"
  }
 },
 "nbformat": 4,
 "nbformat_minor": 5
}
